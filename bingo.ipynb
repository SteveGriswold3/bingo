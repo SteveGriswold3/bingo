{
 "cells": [
  {
   "cell_type": "code",
   "execution_count": 1,
   "metadata": {},
   "outputs": [],
   "source": [
    "import numpy as np"
   ]
  },
  {
   "cell_type": "code",
   "execution_count": 2,
   "metadata": {},
   "outputs": [],
   "source": [
    "def bingo_range(start):\n",
    "    return [x for x in range(start,start+15)]"
   ]
  },
  {
   "cell_type": "code",
   "execution_count": 3,
   "metadata": {},
   "outputs": [],
   "source": [
    "def bingo_numbers():\n",
    "    bingo_nbrs = {}\n",
    "    start = 1\n",
    "    bingo_nbrs['b'] = bingo_range(start)\n",
    "    start+=15\n",
    "    bingo_nbrs['i'] = bingo_range(start)\n",
    "    start+=15\n",
    "    bingo_nbrs['n'] = bingo_range(start)\n",
    "    start+=15\n",
    "    bingo_nbrs['g'] = bingo_range(start)\n",
    "    start+=15\n",
    "    bingo_nbrs['o'] = bingo_range(start)\n",
    "    return bingo_nbrs"
   ]
  },
  {
   "cell_type": "code",
   "execution_count": 4,
   "metadata": {},
   "outputs": [],
   "source": [
    "bingo_nbrs = bingo_numbers()"
   ]
  },
  {
   "cell_type": "code",
   "execution_count": 5,
   "metadata": {},
   "outputs": [
    {
     "data": {
      "text/plain": [
       "{'b': [1, 2, 3, 4, 5, 6, 7, 8, 9, 10, 11, 12, 13, 14, 15],\n",
       " 'i': [16, 17, 18, 19, 20, 21, 22, 23, 24, 25, 26, 27, 28, 29, 30],\n",
       " 'n': [31, 32, 33, 34, 35, 36, 37, 38, 39, 40, 41, 42, 43, 44, 45],\n",
       " 'g': [46, 47, 48, 49, 50, 51, 52, 53, 54, 55, 56, 57, 58, 59, 60],\n",
       " 'o': [61, 62, 63, 64, 65, 66, 67, 68, 69, 70, 71, 72, 73, 74, 75]}"
      ]
     },
     "execution_count": 5,
     "metadata": {},
     "output_type": "execute_result"
    }
   ],
   "source": [
    "bingo_nbrs"
   ]
  },
  {
   "cell_type": "markdown",
   "metadata": {},
   "source": [
    "# Generate a Card"
   ]
  },
  {
   "cell_type": "code",
   "execution_count": 19,
   "metadata": {},
   "outputs": [],
   "source": [
    "def generate_card(bingo_nbrs):\n",
    "    card = []\n",
    "    for k in bingo_nbrs.keys():\n",
    "        card.append(np.random.choice(bingo_nbrs[k],5,replace=False))\n",
    "    return card"
   ]
  },
  {
   "cell_type": "code",
   "execution_count": 17,
   "metadata": {},
   "outputs": [
    {
     "data": {
      "text/plain": [
       "array([13,  8,  5,  3,  2])"
      ]
     },
     "execution_count": 17,
     "metadata": {},
     "output_type": "execute_result"
    }
   ],
   "source": [
    "np.random.choice(bingo_nbrs['b'],5,replace=False)"
   ]
  },
  {
   "cell_type": "code",
   "execution_count": 42,
   "metadata": {},
   "outputs": [
    {
     "data": {
      "text/plain": [
       "[array([ 7, 11,  4, 14,  6]),\n",
       " array([24, 17, 20, 27, 19]),\n",
       " array([42, 39, 44, 32, 34]),\n",
       " array([58, 47, 55, 51, 48]),\n",
       " array([63, 69, 70, 62, 61])]"
      ]
     },
     "execution_count": 42,
     "metadata": {},
     "output_type": "execute_result"
    }
   ],
   "source": [
    "generate_card(bingo_nbrs)"
   ]
  },
  {
   "cell_type": "markdown",
   "metadata": {},
   "source": [
    "# Pick Numbers"
   ]
  },
  {
   "cell_type": "code",
   "execution_count": 3,
   "metadata": {},
   "outputs": [],
   "source": [
    "selected_number = []"
   ]
  },
  {
   "cell_type": "code",
   "execution_count": 1,
   "metadata": {},
   "outputs": [],
   "source": [
    "def picked_number(selected_number, new_number):\n",
    "    selected_number.append(new_number)"
   ]
  },
  {
   "cell_type": "code",
   "execution_count": 13,
   "metadata": {},
   "outputs": [
    {
     "name": "stdout",
     "output_type": "stream",
     "text": [
      "[2, 30, 20, 16, 13, 19, 8, 14]\n"
     ]
    }
   ],
   "source": [
    "picked_number(selected_number, np.random.randint(1,36))\n",
    "print(selected_number)"
   ]
  },
  {
   "cell_type": "code",
   "execution_count": 17,
   "metadata": {},
   "outputs": [],
   "source": [
    "class Bingo:\n",
    "    def __init__(self):\n",
    "        self.game_number = 0\n",
    "        self.selected_numbers = []\n",
    "        \n",
    "    def picked_number(self, new_number):\n",
    "        self.selected_numbers.append(new_number)\n",
    "    \n",
    "    def pick_random_number(self):\n",
    "        return np.random.randint(1,36)"
   ]
  },
  {
   "cell_type": "code",
   "execution_count": 18,
   "metadata": {},
   "outputs": [],
   "source": [
    "bingo = Bingo()"
   ]
  },
  {
   "cell_type": "code",
   "execution_count": 30,
   "metadata": {},
   "outputs": [
    {
     "name": "stdout",
     "output_type": "stream",
     "text": [
      "[26, 31, 5, 31, 10, 23, 6, 15, 33, 10, 16, 1]\n"
     ]
    }
   ],
   "source": [
    "nbr = bingo.pick_random_number()\n",
    "bingo.picked_number(nbr)\n",
    "print(bingo.selected_numbers)"
   ]
  },
  {
   "cell_type": "code",
   "execution_count": 11,
   "metadata": {},
   "outputs": [],
   "source": [
    "from src.bingo import Bingo \n",
    "from src.bingo import Card "
   ]
  },
  {
   "cell_type": "code",
   "execution_count": 26,
   "metadata": {},
   "outputs": [],
   "source": [
    "%load_ext autoreload"
   ]
  },
  {
   "cell_type": "code",
   "execution_count": 27,
   "metadata": {},
   "outputs": [],
   "source": [
    "%autoreload"
   ]
  },
  {
   "cell_type": "code",
   "execution_count": 27,
   "metadata": {},
   "outputs": [],
   "source": [
    "card = Card()"
   ]
  },
  {
   "cell_type": "code",
   "execution_count": 28,
   "metadata": {},
   "outputs": [
    {
     "data": {
      "text/plain": [
       "array([[12,  5,  2,  7, 15],\n",
       "       [19, 16, 23, 20, 30],\n",
       "       [44, 39,  0, 32, 42],\n",
       "       [57, 60, 56, 51, 55],\n",
       "       [65, 74, 66, 64, 68]])"
      ]
     },
     "execution_count": 28,
     "metadata": {},
     "output_type": "execute_result"
    }
   ],
   "source": [
    "card.card_numbers"
   ]
  },
  {
   "cell_type": "code",
   "execution_count": 20,
   "metadata": {},
   "outputs": [],
   "source": [
    "card.card_numbers[2][2]=0"
   ]
  },
  {
   "cell_type": "code",
   "execution_count": 29,
   "metadata": {},
   "outputs": [
    {
     "data": {
      "text/plain": [
       "array([[12, 19, 44, 57, 65],\n",
       "       [ 5, 16, 39, 60, 74],\n",
       "       [ 2, 23,  0, 56, 66],\n",
       "       [ 7, 20, 32, 51, 64],\n",
       "       [15, 30, 42, 55, 68]])"
      ]
     },
     "execution_count": 29,
     "metadata": {},
     "output_type": "execute_result"
    }
   ],
   "source": [
    "card.card_numbers.T"
   ]
  },
  {
   "cell_type": "code",
   "execution_count": 49,
   "metadata": {},
   "outputs": [],
   "source": [
    "import pandas as pd\n"
   ]
  },
  {
   "cell_type": "code",
   "execution_count": 39,
   "metadata": {},
   "outputs": [],
   "source": [
    "%load_ext autoreload"
   ]
  },
  {
   "cell_type": "code",
   "execution_count": 45,
   "metadata": {},
   "outputs": [],
   "source": [
    "%autoreload"
   ]
  },
  {
   "cell_type": "code",
   "execution_count": 53,
   "metadata": {},
   "outputs": [],
   "source": [
    "current_card = np.array(card.card_numbers)"
   ]
  },
  {
   "cell_type": "code",
   "execution_count": 54,
   "metadata": {},
   "outputs": [
    {
     "data": {
      "text/plain": [
       "array([[14, 30, 43, 55, 74],\n",
       "       [ 2, 17, 35, 54, 71],\n",
       "       [ 9, 22, 37, 52, 61],\n",
       "       [15, 21, 36, 57, 70],\n",
       "       [13, 24, 38, 50, 65]])"
      ]
     },
     "execution_count": 54,
     "metadata": {},
     "output_type": "execute_result"
    }
   ],
   "source": [
    "current_card.T"
   ]
  },
  {
   "cell_type": "code",
   "execution_count": null,
   "metadata": {},
   "outputs": [],
   "source": [
    "current_card.T"
   ]
  },
  {
   "cell_type": "markdown",
   "metadata": {},
   "source": [
    "# Generate Card IDs"
   ]
  },
  {
   "cell_type": "code",
   "execution_count": 6,
   "metadata": {},
   "outputs": [],
   "source": [
    "import string\n",
    "from datetime import datetime"
   ]
  },
  {
   "cell_type": "code",
   "execution_count": 38,
   "metadata": {},
   "outputs": [],
   "source": [
    "from pymongo import MongoClient"
   ]
  },
  {
   "cell_type": "code",
   "execution_count": 9,
   "metadata": {},
   "outputs": [],
   "source": [
    "letters = string.ascii_lowercase"
   ]
  },
  {
   "cell_type": "code",
   "execution_count": 83,
   "metadata": {},
   "outputs": [],
   "source": [
    "def generateCardCode(times=100, code_len=6):\n",
    "    code_list = []\n",
    "    for t in range(0, times):\n",
    "        code = \"\"\n",
    "        for n in range(0,code_len):\n",
    "            nl = np.random.randint(0,2)\n",
    "            if nl==0:\n",
    "               #number\n",
    "                num = np.random.randint(0,10)\n",
    "                code+=str(num)\n",
    "            elif nl==1:\n",
    "                let = np.random.randint(0,26)\n",
    "                code+=letters[let]\n",
    "        code_list.append(code)\n",
    "    return code_list"
   ]
  },
  {
   "cell_type": "code",
   "execution_count": 38,
   "metadata": {},
   "outputs": [],
   "source": [
    "codes = generateCardCode(15, code_len=6)"
   ]
  },
  {
   "cell_type": "code",
   "execution_count": 39,
   "metadata": {},
   "outputs": [],
   "source": [
    "c = MongoClient()"
   ]
  },
  {
   "cell_type": "code",
   "execution_count": 40,
   "metadata": {},
   "outputs": [
    {
     "data": {
      "text/plain": [
       "['Galvanize',\n",
       " 'admin',\n",
       " 'bingo',\n",
       " 'clicks',\n",
       " 'config',\n",
       " 'evil',\n",
       " 'local',\n",
       " 'metroid',\n",
       " 'nyt_dump',\n",
       " 'unicorns',\n",
       " 'yelp']"
      ]
     },
     "execution_count": 40,
     "metadata": {},
     "output_type": "execute_result"
    }
   ],
   "source": [
    "c.list_database_names()"
   ]
  },
  {
   "cell_type": "code",
   "execution_count": null,
   "metadata": {},
   "outputs": [],
   "source": []
  },
  {
   "cell_type": "code",
   "execution_count": 49,
   "metadata": {},
   "outputs": [],
   "source": [
    "col = db.create_collection('card_ids')"
   ]
  },
  {
   "cell_type": "code",
   "execution_count": 50,
   "metadata": {},
   "outputs": [
    {
     "data": {
      "text/plain": [
       "<pymongo.cursor.Cursor at 0x10e0cfef0>"
      ]
     },
     "execution_count": 50,
     "metadata": {},
     "output_type": "execute_result"
    }
   ],
   "source": [
    "col.find()"
   ]
  },
  {
   "cell_type": "code",
   "execution_count": 42,
   "metadata": {},
   "outputs": [
    {
     "name": "stdout",
     "output_type": "stream",
     "text": [
      "Object `db.bingo.card_ids.insert_one` not found.\n"
     ]
    }
   ],
   "source": [
    "db.bingo.card_ids.insert_one?"
   ]
  },
  {
   "cell_type": "code",
   "execution_count": 55,
   "metadata": {},
   "outputs": [
    {
     "name": "stdout",
     "output_type": "stream",
     "text": [
      "{'Code': '93lx67', 'used': False}\n",
      "{'Code': 'ij4203', 'used': False}\n",
      "{'Code': 'j33394', 'used': False}\n",
      "{'Code': '15y5s8', 'used': False}\n",
      "{'Code': 'lq80qr', 'used': False}\n",
      "{'Code': '22xsol', 'used': False}\n",
      "{'Code': 'pty123', 'used': False}\n",
      "{'Code': 'yy4z5d', 'used': False}\n",
      "{'Code': '0n13l6', 'used': False}\n",
      "{'Code': 'hq39e3', 'used': False}\n",
      "{'Code': 'onl7ax', 'used': False}\n",
      "{'Code': '70l9np', 'used': False}\n",
      "{'Code': '3efd2z', 'used': False}\n",
      "{'Code': '9c1eu9', 'used': False}\n",
      "{'Code': 'wyn8u4', 'used': False}\n"
     ]
    }
   ],
   "source": [
    "for c in codes:\n",
    "    print({'Code': c, 'used': False})\n",
    "    db.card_ids.insert_one({'Code': c, 'used': False})"
   ]
  },
  {
   "cell_type": "code",
   "execution_count": null,
   "metadata": {},
   "outputs": [],
   "source": []
  },
  {
   "cell_type": "code",
   "execution_count": 50,
   "metadata": {},
   "outputs": [],
   "source": [
    "card = c.bingo.card_ids.find_one({'Code': '93lx67x'})"
   ]
  },
  {
   "cell_type": "code",
   "execution_count": 52,
   "metadata": {},
   "outputs": [
    {
     "data": {
      "text/plain": [
       "NoneType"
      ]
     },
     "execution_count": 52,
     "metadata": {},
     "output_type": "execute_result"
    }
   ],
   "source": [
    "type(card)"
   ]
  },
  {
   "cell_type": "code",
   "execution_count": 79,
   "metadata": {},
   "outputs": [
    {
     "name": "stdout",
     "output_type": "stream",
     "text": [
      "{'_id': ObjectId('5cac20ae3d38dc4e1d2b5382'), 'Code': '93lx67', 'used': False}\n",
      "{'_id': ObjectId('5cac20ae3d38dc4e1d2b5383'), 'Code': 'ij4203', 'used': True}\n",
      "{'_id': ObjectId('5cac20ae3d38dc4e1d2b5384'), 'Code': 'j33394', 'used': False}\n",
      "{'_id': ObjectId('5cac20ae3d38dc4e1d2b5385'), 'Code': '15y5s8', 'used': False}\n",
      "{'_id': ObjectId('5cac20ae3d38dc4e1d2b5386'), 'Code': 'lq80qr', 'used': False}\n",
      "{'_id': ObjectId('5cac20ae3d38dc4e1d2b5387'), 'Code': '22xsol', 'used': False}\n",
      "{'_id': ObjectId('5cac20ae3d38dc4e1d2b5388'), 'Code': 'pty123', 'used': False}\n",
      "{'_id': ObjectId('5cac20ae3d38dc4e1d2b5389'), 'Code': 'yy4z5d', 'used': False}\n",
      "{'_id': ObjectId('5cac20ae3d38dc4e1d2b538a'), 'Code': '0n13l6', 'used': False}\n",
      "{'_id': ObjectId('5cac20ae3d38dc4e1d2b538b'), 'Code': 'hq39e3', 'used': False}\n",
      "{'_id': ObjectId('5cac20ae3d38dc4e1d2b538c'), 'Code': 'onl7ax', 'used': False}\n",
      "{'_id': ObjectId('5cac20ae3d38dc4e1d2b538d'), 'Code': '70l9np', 'used': False}\n",
      "{'_id': ObjectId('5cac20ae3d38dc4e1d2b538e'), 'Code': '3efd2z', 'used': False}\n",
      "{'_id': ObjectId('5cac20ae3d38dc4e1d2b538f'), 'Code': '9c1eu9', 'used': False}\n",
      "{'_id': ObjectId('5cac20ae3d38dc4e1d2b5390'), 'Code': 'wyn8u4', 'used': False}\n"
     ]
    }
   ],
   "source": [
    "for doc in db.card_ids.find({}):\n",
    "    print(doc)"
   ]
  },
  {
   "cell_type": "code",
   "execution_count": 77,
   "metadata": {},
   "outputs": [
    {
     "name": "stdout",
     "output_type": "stream",
     "text": [
      "{'_id': ObjectId('5cac20ae3d38dc4e1d2b5383'), 'Code': 'ij4203', 'used': True}\n"
     ]
    }
   ],
   "source": [
    "res = db.card_ids.find_one({'Code': 'ij4203'})\n",
    "print(res)"
   ]
  },
  {
   "cell_type": "code",
   "execution_count": 78,
   "metadata": {},
   "outputs": [
    {
     "name": "stdout",
     "output_type": "stream",
     "text": [
      "Card Already Used.\n"
     ]
    }
   ],
   "source": [
    "if res==None:\n",
    "    print(\"Card Not Found.\")\n",
    "else:\n",
    "    if res['used']==True:\n",
    "        print(\"Card Already Used.\")\n",
    "    else:\n",
    "        print(\"Use this Card.\")"
   ]
  },
  {
   "cell_type": "code",
   "execution_count": 75,
   "metadata": {},
   "outputs": [
    {
     "data": {
      "text/plain": [
       "<pymongo.results.UpdateResult at 0x10e0befc8>"
      ]
     },
     "execution_count": 75,
     "metadata": {},
     "output_type": "execute_result"
    }
   ],
   "source": [
    "db.card_ids.update_one({'Code': 'ij4203'}, {'$set': {'used': True}})"
   ]
  },
  {
   "cell_type": "code",
   "execution_count": 73,
   "metadata": {},
   "outputs": [],
   "source": [
    "db.card_ids.update_one?"
   ]
  },
  {
   "cell_type": "markdown",
   "metadata": {},
   "source": [
    "# Link Card Code to User"
   ]
  },
  {
   "cell_type": "code",
   "execution_count": 10,
   "metadata": {},
   "outputs": [
    {
     "ename": "NameError",
     "evalue": "name 'db' is not defined",
     "output_type": "error",
     "traceback": [
      "\u001b[0;31m---------------------------------------------------------------------------\u001b[0m",
      "\u001b[0;31mNameError\u001b[0m                                 Traceback (most recent call last)",
      "\u001b[0;32m<ipython-input-10-ae70a4a5cfa2>\u001b[0m in \u001b[0;36m<module>\u001b[0;34m()\u001b[0m\n\u001b[0;32m----> 1\u001b[0;31m \u001b[0mplayers\u001b[0m \u001b[0;34m=\u001b[0m \u001b[0mdb\u001b[0m\u001b[0;34m.\u001b[0m\u001b[0mcreate_collection\u001b[0m\u001b[0;34m(\u001b[0m\u001b[0;34m'users'\u001b[0m\u001b[0;34m)\u001b[0m\u001b[0;34m\u001b[0m\u001b[0m\n\u001b[0m",
      "\u001b[0;31mNameError\u001b[0m: name 'db' is not defined"
     ]
    }
   ],
   "source": [
    "players = db.create_collection('users')"
   ]
  },
  {
   "cell_type": "code",
   "execution_count": 84,
   "metadata": {},
   "outputs": [
    {
     "data": {
      "text/plain": [
       "['w9iao0t279ed2mq20webmjvm3g574t66']"
      ]
     },
     "execution_count": 84,
     "metadata": {},
     "output_type": "execute_result"
    }
   ],
   "source": [
    "generateCardCode(1, code_len=32)"
   ]
  },
  {
   "cell_type": "code",
   "execution_count": 86,
   "metadata": {},
   "outputs": [
    {
     "data": {
      "text/plain": [
       "datetime.datetime(2019, 4, 8, 21, 53, 0, 165045)"
      ]
     },
     "execution_count": 86,
     "metadata": {},
     "output_type": "execute_result"
    }
   ],
   "source": [
    "datetime.now()"
   ]
  },
  {
   "cell_type": "code",
   "execution_count": 87,
   "metadata": {},
   "outputs": [
    {
     "data": {
      "text/plain": [
       "<pymongo.results.InsertOneResult at 0x10e1f6a08>"
      ]
     },
     "execution_count": 87,
     "metadata": {},
     "output_type": "execute_result"
    }
   ],
   "source": [
    "db.players.insert_one(\n",
    "    {'user_id': 'steve.griswold',\n",
    "     'secret_key': 'test123',\n",
    "     'temp_key': 'w9iao0t279ed2mq20webmjvm3g574t66',\n",
    "     'start_time': datetime.now()})"
   ]
  },
  {
   "cell_type": "code",
   "execution_count": 149,
   "metadata": {},
   "outputs": [
    {
     "name": "stdout",
     "output_type": "stream",
     "text": [
      "{'_id': ObjectId('5cac25383d38dc4e1d2b5391'), 'user_id': 'steve.griswold', 'secret_key': 'test123', 'temp_key': '530548we35yhxi62q7ehxp275331r507', 'start_time': datetime.datetime(2019, 4, 8, 22, 2, 23, 912000), 'nickname': 'SpongeBob'}\n"
     ]
    }
   ],
   "source": [
    "for p in db.players.find():\n",
    "    print(p)"
   ]
  },
  {
   "cell_type": "code",
   "execution_count": 103,
   "metadata": {},
   "outputs": [],
   "source": [
    "def validate_user(user_id, secret_key):\n",
    "    res = db.players.find_one({'user_id': user_id, 'secret_key': secret_key})\n",
    "    if res==None:\n",
    "        res=db.players.find_one({'user_id': user_id})\n",
    "        if res==None:\n",
    "            print('Player Not Registered.')\n",
    "        else:\n",
    "            print('Incorrect Secret Key.')\n",
    "    else:\n",
    "        keys = generateCardCode(1, 32)\n",
    "        db.players.update_one(\n",
    "            {'user_id': user_id, 'secret_key': secret_key},\n",
    "            {'$set': {'temp_key': keys[0], 'start_time': datetime.now()}})\n",
    "        print(keys[0])"
   ]
  },
  {
   "cell_type": "code",
   "execution_count": 106,
   "metadata": {},
   "outputs": [
    {
     "name": "stdout",
     "output_type": "stream",
     "text": [
      "530548we35yhxi62q7ehxp275331r507\n"
     ]
    }
   ],
   "source": [
    "validate_user('steve.griswold', 'test123')"
   ]
  },
  {
   "cell_type": "markdown",
   "metadata": {},
   "source": [
    "# Update Nickname"
   ]
  },
  {
   "cell_type": "code",
   "execution_count": 120,
   "metadata": {},
   "outputs": [],
   "source": [
    "from datetime import datetime"
   ]
  },
  {
   "cell_type": "code",
   "execution_count": 144,
   "metadata": {},
   "outputs": [],
   "source": [
    "def getStamp(user_id, temp_key):\n",
    "    res =db.players.find_one({'user_id': user_id, 'temp_key': temp_key})\n",
    "    if res!=None:\n",
    "        time = res['start_time']\n",
    "        time_diff = datetime.now() - time\n",
    "        if (time_diff.total_seconds()/60/60) > 2:\n",
    "            print(\"time out\")\n",
    "            return False\n",
    "        else:\n",
    "            return True"
   ]
  },
  {
   "cell_type": "code",
   "execution_count": 145,
   "metadata": {},
   "outputs": [
    {
     "data": {
      "text/plain": [
       "True"
      ]
     },
     "execution_count": 145,
     "metadata": {},
     "output_type": "execute_result"
    }
   ],
   "source": [
    "getStamp('steve.griswold', '530548we35yhxi62q7ehxp275331r507')"
   ]
  },
  {
   "cell_type": "code",
   "execution_count": 19,
   "metadata": {},
   "outputs": [],
   "source": [
    "user_id = 'steve.griswold'\n",
    "temp_key = '530548we35yhxi62q7ehxp275331r507'\n",
    "secret_key = 'test123'"
   ]
  },
  {
   "cell_type": "code",
   "execution_count": 147,
   "metadata": {},
   "outputs": [],
   "source": [
    "def setnickname(user_id, temp_key, nickname):\n",
    "    if getStamp(user_id, temp_key):\n",
    "        res = db.players.find_one({'user_id': user_id, 'temp_key': temp_key})\n",
    "        if res==None:\n",
    "            res=db.players.find_one({'user_id': user_id})\n",
    "            if res==None:\n",
    "                print('Oops Something went wrong.  Login Again.')\n",
    "            else:\n",
    "                print('Temp Key Expired.  Login Again.')\n",
    "        else:\n",
    "            db.players.update_one(\n",
    "                {'user_id': user_id, 'temp_key': temp_key},\n",
    "                {'$set': {'nickname': nickname}})\n",
    "            print('Updated nickname:', nickname)\n",
    "    else:\n",
    "        print('Inactive: Login Again')"
   ]
  },
  {
   "cell_type": "code",
   "execution_count": 4,
   "metadata": {},
   "outputs": [
    {
     "ename": "NameError",
     "evalue": "name 'setnickname' is not defined",
     "output_type": "error",
     "traceback": [
      "\u001b[0;31m---------------------------------------------------------------------------\u001b[0m",
      "\u001b[0;31mNameError\u001b[0m                                 Traceback (most recent call last)",
      "\u001b[0;32m<ipython-input-4-23b8524496bb>\u001b[0m in \u001b[0;36m<module>\u001b[0;34m()\u001b[0m\n\u001b[0;32m----> 1\u001b[0;31m \u001b[0msetnickname\u001b[0m\u001b[0;34m(\u001b[0m\u001b[0muser_id\u001b[0m\u001b[0;34m,\u001b[0m \u001b[0mtemp_key\u001b[0m\u001b[0;34m,\u001b[0m \u001b[0;34m'SpongeBob'\u001b[0m\u001b[0;34m)\u001b[0m\u001b[0;34m\u001b[0m\u001b[0m\n\u001b[0m",
      "\u001b[0;31mNameError\u001b[0m: name 'setnickname' is not defined"
     ]
    }
   ],
   "source": [
    "setnickname(user_id, temp_key, 'SpongeBob')"
   ]
  },
  {
   "cell_type": "code",
   "execution_count": 29,
   "metadata": {},
   "outputs": [],
   "source": [
    "from src.bingo import bingoDB"
   ]
  },
  {
   "cell_type": "code",
   "execution_count": 30,
   "metadata": {},
   "outputs": [],
   "source": [
    "db = bingoDB()"
   ]
  },
  {
   "cell_type": "code",
   "execution_count": 8,
   "metadata": {},
   "outputs": [],
   "source": [
    "user_id = 'steve.griswold'\n",
    "secret_key = 'test123'\n",
    "temp_key = '530548we35yhxi62q7ehxp275331r507'"
   ]
  },
  {
   "cell_type": "code",
   "execution_count": 22,
   "metadata": {},
   "outputs": [],
   "source": [
    "ret = db.players.find_one({'user_id': user_id, 'secret_key': secret_key},{'temp_key': True})\n",
    "\n",
    "ret['temp_key']"
   ]
  },
  {
   "cell_type": "code",
   "execution_count": 9,
   "metadata": {},
   "outputs": [
    {
     "data": {
      "text/plain": [
       "'b9q880kd22qp8af5nu75ra4tmo9q2jnw'"
      ]
     },
     "execution_count": 9,
     "metadata": {},
     "output_type": "execute_result"
    }
   ],
   "source": [
    "db.getTempKey(user_id, secret_key)"
   ]
  },
  {
   "cell_type": "code",
   "execution_count": 1,
   "metadata": {},
   "outputs": [],
   "source": [
    "%load_ext autoreload"
   ]
  },
  {
   "cell_type": "code",
   "execution_count": 28,
   "metadata": {},
   "outputs": [],
   "source": [
    "%autoreload"
   ]
  },
  {
   "cell_type": "code",
   "execution_count": 31,
   "metadata": {},
   "outputs": [],
   "source": [
    "user = db.welcome(user_id, secret_key)"
   ]
  },
  {
   "cell_type": "code",
   "execution_count": 26,
   "metadata": {},
   "outputs": [],
   "source": [
    "if 'cards' in user.keys():\n",
    "    cards = user['cards']\n",
    "else:\n",
    "    cards = None"
   ]
  },
  {
   "cell_type": "code",
   "execution_count": 32,
   "metadata": {},
   "outputs": [
    {
     "data": {
      "text/plain": [
       "{'_id': ObjectId('5cac25383d38dc4e1d2b5391'),\n",
       " 'temp_key': 'b9q880kd22qp8af5nu75ra4tmo9q2jnw',\n",
       " 'nickname': 'SpongeBob'}"
      ]
     },
     "execution_count": 32,
     "metadata": {},
     "output_type": "execute_result"
    }
   ],
   "source": [
    "user"
   ]
  },
  {
   "cell_type": "code",
   "execution_count": 34,
   "metadata": {},
   "outputs": [
    {
     "ename": "NameError",
     "evalue": "name 'c' is not defined",
     "output_type": "error",
     "traceback": [
      "\u001b[0;31m---------------------------------------------------------------------------\u001b[0m",
      "\u001b[0;31mNameError\u001b[0m                                 Traceback (most recent call last)",
      "\u001b[0;32m<ipython-input-34-10eb1ef9e58c>\u001b[0m in \u001b[0;36m<module>\u001b[0;34m()\u001b[0m\n\u001b[0;32m----> 1\u001b[0;31m \u001b[0mc\u001b[0m\u001b[0;34m.\u001b[0m\u001b[0mcard_ids\u001b[0m\u001b[0;34m.\u001b[0m\u001b[0mfind\u001b[0m\u001b[0;34m(\u001b[0m\u001b[0;34m{\u001b[0m\u001b[0;34m}\u001b[0m\u001b[0;34m)\u001b[0m\u001b[0;34m\u001b[0m\u001b[0m\n\u001b[0m",
      "\u001b[0;31mNameError\u001b[0m: name 'c' is not defined"
     ]
    }
   ],
   "source": [
    "c.card_ids.find({})"
   ]
  },
  {
   "cell_type": "code",
   "execution_count": 36,
   "metadata": {},
   "outputs": [
    {
     "ename": "NameError",
     "evalue": "name 'c' is not defined",
     "output_type": "error",
     "traceback": [
      "\u001b[0;31m----------------------------------------------------------------\u001b[0m",
      "\u001b[0;31mNameError\u001b[0m                      Traceback (most recent call last)",
      "\u001b[0;32m<ipython-input-36-c44f27102e9d>\u001b[0m in \u001b[0;36m<module>\u001b[0;34m()\u001b[0m\n\u001b[0;32m----> 1\u001b[0;31m \u001b[0mc\u001b[0m\u001b[0;34m.\u001b[0m\u001b[0mcard_ids\u001b[0m\u001b[0;34m.\u001b[0m\u001b[0mfind_one\u001b[0m\u001b[0;34m(\u001b[0m\u001b[0;34m{\u001b[0m\u001b[0;34m}\u001b[0m\u001b[0;34m)\u001b[0m\u001b[0;34m\u001b[0m\u001b[0m\n\u001b[0m",
      "\u001b[0;31mNameError\u001b[0m: name 'c' is not defined"
     ]
    }
   ],
   "source": [
    "c.card_ids.find_one({})"
   ]
  },
  {
   "cell_type": "code",
   "execution_count": null,
   "metadata": {},
   "outputs": [],
   "source": []
  }
 ],
 "metadata": {
  "kernelspec": {
   "display_name": "Python 3",
   "language": "python",
   "name": "python3"
  },
  "language_info": {
   "codemirror_mode": {
    "name": "ipython",
    "version": 3
   },
   "file_extension": ".py",
   "mimetype": "text/x-python",
   "name": "python",
   "nbconvert_exporter": "python",
   "pygments_lexer": "ipython3",
   "version": "3.6.5"
  }
 },
 "nbformat": 4,
 "nbformat_minor": 2
}
